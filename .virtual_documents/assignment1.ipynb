import pandas as pd


df = pd.read_csv("lc_loan.csv")


# Display first few rows
print(df.sampl)

print("================")
# Check memory usage
print(df.info())



import matplotlib.pyplot as plt


df_sample = df.head(100)
# Plot histograms for two columns
plt.hist(df_sample["loan_amnt"], bins=50, alpha=0.5, label="Loan Amount", color="blue")
plt.hist(df_sample["funded_amnt"], bins=50, alpha=0.5, label="Funded Amount", color="red")

plt.xlabel("Value")
plt.ylabel("Frequency")
plt.legend()
plt.title("Comparison of Loan amount and Funded Amount Distributions")
plt.show()



